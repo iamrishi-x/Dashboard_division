{
 "cells": [
  {
   "cell_type": "code",
   "execution_count": 1,
   "metadata": {},
   "outputs": [],
   "source": [
    "import cv2\n",
    "import numpy as np\n",
    "\n",
    "a=['Predictive_Modeling_Model_Performance_1.jpg','Revenue_Dashboard_2.jpg','SalesForecasting_4.jpg','Retail_Sales_Distribution_Network_Dashboard_With_Forecasting_3(1).jpg']\n",
    "image = cv2.imread('img/'+a[0])\n",
    "\n",
    "\n",
    "\n",
    "# Convert the image to grayscale\n",
    "gray = cv2.cvtColor(image, cv2.COLOR_BGR2GRAY)\n",
    "bilateral = cv2.bilateralFilter(gray, 5,40,40)\n",
    "adaptive_threshold_bi = cv2.adaptiveThreshold(bilateral, 255, cv2.ADAPTIVE_THRESH_GAUSSIAN_C, cv2.THRESH_BINARY, 11, 3)\n",
    "#cv2.imshow(\"adaptive_bilateral_filter\", adaptive_threshold_bi)\n",
    "# Apply Gaussian blur to reduce noise\n",
    "# blurred = cv2.GaussianBlur(gray, (5, 5), 0)\n",
    "\n",
    "# Apply edge detection\n",
    "edges = cv2.Canny(adaptive_threshold_bi, 50, 150)\n"
   ]
  },
  {
   "cell_type": "code",
   "execution_count": 2,
   "metadata": {},
   "outputs": [],
   "source": [
    "# Find contours in the edges image\n",
    "contours, _ = cv2.findContours(edges, cv2.RETR_EXTERNAL, cv2.CHAIN_APPROX_SIMPLE)\n",
    "\n",
    "# Iterate through the contours and filter out small or irrelevant ones\n",
    "min_area = 500  # Minimum area to filter small contours (you can adjust based on your image)\n",
    "subgraph_contours = []\n",
    "\n",
    "for cnt in contours:\n",
    "    area = cv2.contourArea(cnt)\n",
    "    if area > min_area:  # Only consider contours with area above the threshold\n",
    "        subgraph_contours.append(cnt)\n",
    "        # Draw the contours on the image to visualize\n",
    "        cv2.drawContours(image, [cnt], -1, (0, 255, 0), 2)\n"
   ]
  },
  {
   "cell_type": "code",
   "execution_count": 13,
   "metadata": {},
   "outputs": [],
   "source": [
    "# Approximate each contour to a polygonal shape\n",
    "for cnt in subgraph_contours:\n",
    "    epsilon = 0.02 * cv2.arcLength(cnt, True)\n",
    "    approx = cv2.approxPolyDP(cnt, epsilon, True)\n",
    "    \n",
    "    # If the contour approximates a rectangle (4 vertices), it could be a subgraph\n",
    "    if len(approx) == 4:\n",
    "        x, y, w, h = cv2.boundingRect(approx)  # Get bounding box for the subgraph\n",
    "        cv2.rectangle(image, (x, y), (x + w, y + h), (0, 0, 255), 2)\n",
    "\n",
    "cv2.imshow('Image with Rectangles', image)\n",
    "cv2.waitKey(0)\n",
    "cv2.destroyAllWindows()"
   ]
  }
 ],
 "metadata": {
  "kernelspec": {
   "display_name": ".venv",
   "language": "python",
   "name": "python3"
  },
  "language_info": {
   "codemirror_mode": {
    "name": "ipython",
    "version": 3
   },
   "file_extension": ".py",
   "mimetype": "text/x-python",
   "name": "python",
   "nbconvert_exporter": "python",
   "pygments_lexer": "ipython3",
   "version": "3.12.5"
  }
 },
 "nbformat": 4,
 "nbformat_minor": 2
}
